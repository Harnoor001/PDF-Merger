{
  "nbformat": 4,
  "nbformat_minor": 0,
  "metadata": {
    "colab": {
      "provenance": [],
      "authorship_tag": "ABX9TyNzAPdCMJzhueoCdMInkD+U",
      "include_colab_link": true
    },
    "kernelspec": {
      "name": "python3",
      "display_name": "Python 3"
    },
    "language_info": {
      "name": "python"
    }
  },
  "cells": [
    {
      "cell_type": "markdown",
      "metadata": {
        "id": "view-in-github",
        "colab_type": "text"
      },
      "source": [
        "<a href=\"https://colab.research.google.com/github/Harnoor001/PDF-Merger/blob/main/PDF_Merger.ipynb\" target=\"_parent\"><img src=\"https://colab.research.google.com/assets/colab-badge.svg\" alt=\"Open In Colab\"/></a>"
      ]
    },
    {
      "cell_type": "markdown",
      "source": [
        " Step 1: Install PyPDF2"
      ],
      "metadata": {
        "id": "wOpet8s0eqG4"
      }
    },
    {
      "cell_type": "code",
      "execution_count": null,
      "metadata": {
        "id": "FA_zbjlvejUO"
      },
      "outputs": [],
      "source": [
        "!pip install PyPDF2"
      ]
    },
    {
      "cell_type": "markdown",
      "source": [
        "Step 2: Upload the PDF Files to Merge"
      ],
      "metadata": {
        "id": "zgSTYqSxetBx"
      }
    },
    {
      "cell_type": "code",
      "source": [
        "from google.colab import files\n",
        "uploaded = files.upload()  # Upload 2 or more PDF files"
      ],
      "metadata": {
        "id": "uucm-I_6eviP"
      },
      "execution_count": null,
      "outputs": []
    },
    {
      "cell_type": "markdown",
      "source": [
        "Step 3: Merge the PDFs"
      ],
      "metadata": {
        "id": "271YYZk2ew9Y"
      }
    },
    {
      "cell_type": "code",
      "source": [
        "import os\n",
        "from PyPDF2 import PdfMerger  # This is the class specifically for merging\n",
        "\n",
        "def merge_pdfs(pdf_files, output_path):\n",
        "    merger = PdfMerger()\n",
        "\n",
        "    for pdf in pdf_files:\n",
        "        merger.append(pdf)\n",
        "\n",
        "    merger.write(output_path)\n",
        "    merger.close()\n",
        "    print(f'Merged PDF saved to: {output_path}')\n",
        "\n",
        "# Get uploaded filenames\n",
        "input_pdfs = list(uploaded.keys())\n",
        "output_pdf = \"/content/merged_output.pdf\"\n",
        "\n",
        "merge_pdfs(input_pdfs, output_pdf)"
      ],
      "metadata": {
        "id": "F54jZUnIe0iG"
      },
      "execution_count": null,
      "outputs": []
    },
    {
      "cell_type": "markdown",
      "source": [
        "Step 4: Download the Merged File"
      ],
      "metadata": {
        "id": "aHvxIciee3w3"
      }
    },
    {
      "cell_type": "code",
      "source": [
        "files.download(output_pdf)"
      ],
      "metadata": {
        "id": "7VKD_rsqfGyn"
      },
      "execution_count": null,
      "outputs": []
    }
  ]
}